{
 "cells": [
  {
   "cell_type": "markdown",
   "metadata": {},
   "source": [
    "## BMI 6018 Term Project\n",
    "### Members: Anwar Alsanea, Ryan Williams, and Imdad Islam"
   ]
  },
  {
   "cell_type": "markdown",
   "metadata": {},
   "source": [
    "## 1.0 Introduction:"
   ]
  },
  {
   "cell_type": "markdown",
   "metadata": {},
   "source": [
    "Our term project involves dealing with daily gas produced and feed for [digesters](https://en.wikipedia.org/wiki/Anaerobic_digestion) in wastewater treatment plants (WWTP).\n",
    "We have obtained data from a local WWTP [Central Valley Water Reclamation Facility CVWRF](https://www.cvwrf.org/)."
   ]
  },
  {
   "cell_type": "markdown",
   "metadata": {},
   "source": [
    "More info. on our project (Ryan will fill this out)\n",
    "what is a digester?\n",
    "what can we get from our data? \n",
    "this will sort of be like an abstract..."
   ]
  },
  {
   "cell_type": "markdown",
   "metadata": {},
   "source": [
    "# Data:\n",
    "Data will be imported into a dataframe from a csv file that contains gas produced in TCF (Trillion Cubic Feet) and total inputted feed in Gallons for month January - September (excluding August) for the year 2017."
   ]
  },
  {
   "cell_type": "code",
   "execution_count": null,
   "metadata": {},
   "outputs": [],
   "source": [
    "# import csv file into dataframe:\n",
    "import pandas as pd\n",
    "import numpy as np\n",
    "from ipywidgets import interact\n",
    "DF = pd.read_csv('CVWRF.csv', header = 1,na_values=\" NaN\")\n",
    "# pandas is reading the csv file and including all NaN rows at the bottom\n",
    "# to delete those rows, use pandas DataFrame.dropna() function to delete and clean the file\n",
    "DF.dropna(how = 'any',inplace=True)\n",
    "# lets do more cleaning, I do not like the column names, lets change them\n",
    "DF.rename(columns={'Gas produced (TCF)': 'egg1_gasproduced', 'Feed (Gallons)': 'egg1_feed',\n",
    "                  'Gas produced (TCF).1':'egg2_gasproduced','Feed (Gallons).1':'egg2_feed'}, inplace=True)\n",
    "# lets combine egg1 and egg2 numbers together so we only worry about the total of the two per day!\n",
    "# create a new column that adds gasproduced\n",
    "DF['total_gas'] = DF['egg1_gasproduced'] + DF['egg2_gasproduced']\n",
    "DF['total_feed'] = DF['egg1_feed'] + DF['egg2_feed']\n",
    "# print final dataframe\n",
    "DF=DF.query(\"egg1_gasproduced>0\")\n",
    "DF.head(5)\n"
   ]
  },
  {
   "cell_type": "code",
   "execution_count": null,
   "metadata": {},
   "outputs": [],
   "source": [
    "Anwar is not good"
   ]
  },
  {
   "cell_type": "code",
   "execution_count": null,
   "metadata": {},
   "outputs": [],
   "source": [
    "#concat function"
   ]
  },
  {
   "cell_type": "code",
   "execution_count": null,
   "metadata": {},
   "outputs": [],
   "source": [
    "DF_1 = DF[[\"egg1_gasproduced\",\"egg2_gasproduced\"]]\n",
    "DF_1.plot(kind=\"hist\", bins=100, \n",
    "                    colors = ['green','black'],alpha=0.5)"
   ]
  },
  {
   "cell_type": "code",
   "execution_count": null,
   "metadata": {},
   "outputs": [],
   "source": [
    "DF_1.plot(kind=\"kde\")"
   ]
  },
  {
   "cell_type": "code",
   "execution_count": null,
   "metadata": {},
   "outputs": [],
   "source": [
    "DF_1.plot(kind=\"box\")"
   ]
  },
  {
   "cell_type": "code",
   "execution_count": null,
   "metadata": {},
   "outputs": [],
   "source": [
    "DF_1.plot(kind='scatter',x='egg1_gasproduced',y='egg2_gasproduced')"
   ]
  },
  {
   "cell_type": "code",
   "execution_count": null,
   "metadata": {},
   "outputs": [],
   "source": [
    "DF_1.plot(kind='hexbin',\n",
    "                    x='egg1_gasproduced',\n",
    "                    y='egg2_gasproduced',\n",
    "                   gridsize=25)"
   ]
  },
  {
   "cell_type": "code",
   "execution_count": null,
   "metadata": {},
   "outputs": [],
   "source": [
    "from pandas.tools.plotting import scatter_matrix"
   ]
  },
  {
   "cell_type": "code",
   "execution_count": null,
   "metadata": {},
   "outputs": [],
   "source": [
    "scatter_matrix(DF_1,diagonal='kde')"
   ]
  },
  {
   "cell_type": "code",
   "execution_count": null,
   "metadata": {},
   "outputs": [],
   "source": [
    "import matplotlib.pyplot as plt\n",
    "print(DF.boxplot(column=[\"egg1_gasproduced\",\"egg2_gasproduced\"], by=[\"Month\"]))"
   ]
  },
  {
   "cell_type": "code",
   "execution_count": null,
   "metadata": {},
   "outputs": [],
   "source": [
    "import seaborn as sns\n",
    "sns.boxplot(x=\"Month\", y=\"egg1_gasproduced\", data=DF, hue=\"Year\")"
   ]
  },
  {
   "cell_type": "code",
   "execution_count": null,
   "metadata": {},
   "outputs": [],
   "source": [
    "DF.plot.scatter(x=\"egg1_feed\",y=\"egg1_gasproduced\")"
   ]
  },
  {
   "cell_type": "code",
   "execution_count": null,
   "metadata": {},
   "outputs": [],
   "source": [
    "DF.hist(column=[\"egg1_gasproduced\",\"egg2_gasproduced\"], bins=50)"
   ]
  },
  {
   "cell_type": "code",
   "execution_count": null,
   "metadata": {},
   "outputs": [],
   "source": [
    "def Days_Of_Months(number_of_days):\n",
    "    df_filtered = DF.loc[DF['Day'] == int(number_of_days)] \n",
    "    ax = df_filtered[[\"egg1_feed\", \"egg1_gasproduced\"]].plot.scatter(x=\"egg1_feed\",y=\"egg1_gasproduced\")\n",
    "    ax[\"egg1_gasproduced\"].set_title(\"Day \" + number_of_days)\n",
    "    #print (df_filtered)\n",
    "\n",
    "days = [str(day) for day in np.arange(1,32)]\n",
    "\n",
    "interact(Days_Of_Months, number_of_days=days)"
   ]
  },
  {
   "cell_type": "code",
   "execution_count": null,
   "metadata": {},
   "outputs": [],
   "source": [
    "def Days_Of_Months1(Day_in_month):\n",
    "    df_filtered = DF.loc[DF['Day'] == int(Day_in_month)] \n",
    "    ax = df_filtered[[\"Month\", \"egg1_gasproduced\"]].boxplot( by=\"Month\", return_type='axes')\n",
    "    ax[\"egg1_gasproduced\"].set_title(\"Day \" + Day_in_month+\" egg_1 gas production in trillion cubic foot\")\n",
    "    #print (df_filtered)\n",
    "\n",
    "days = [str(day) for day in np.arange(1,32)]\n",
    "\n",
    "interact(Days_Of_Months1, Day_in_month=days)"
   ]
  },
  {
   "cell_type": "code",
   "execution_count": null,
   "metadata": {},
   "outputs": [],
   "source": [
    "import matplotlib.pyplot as plt\n",
    "from matplotlib.widgets import Slider, Button, RadioButtons\n",
    "\n",
    "fig, ax = plt.subplots()\n",
    "plt.subplots_adjust(left=0.25, bottom=0.25)\n",
    "t = np.arange(0.0, 1.0, 0.001)\n",
    "a0 = 5\n",
    "f0 = 3\n",
    "s = a0*np.sin(2*np.pi*f0*t)\n",
    "l, = plt.plot(t, s, lw=2, color='red')\n",
    "plt.axis([0, 1, -10, 10])\n",
    "\n",
    "axcolor = 'lightgoldenrodyellow'\n",
    "axfreq = plt.axes([0.25, 0.1, 0.65, 0.03], facecolor=axcolor)\n",
    "axamp = plt.axes([0.25, 0.15, 0.65, 0.03], facecolor=axcolor)\n",
    "\n",
    "sfreq = Slider(axfreq, 'Freq', 0.1, 30.0, valinit=f0)\n",
    "samp = Slider(axamp, 'Amp', 0.1, 10.0, valinit=a0)\n",
    "\n",
    "\n",
    "def update(val):\n",
    "    amp = samp.val\n",
    "    freq = sfreq.val\n",
    "    l.set_ydata(amp*np.sin(2*np.pi*freq*t))\n",
    "    fig.canvas.draw_idle()\n",
    "sfreq.on_changed(update)\n",
    "samp.on_changed(update)\n",
    "\n",
    "resetax = plt.axes([0.8, 0.025, 0.1, 0.04])\n",
    "button = Button(resetax, 'Reset', color=axcolor, hovercolor='0.975')\n",
    "\n",
    "\n",
    "def reset(event):\n",
    "    sfreq.reset()\n",
    "    samp.reset()\n",
    "button.on_clicked(reset)\n",
    "\n",
    "rax = plt.axes([0.025, 0.5, 0.15, 0.15], facecolor=axcolor)\n",
    "radio = RadioButtons(rax, ('red', 'blue', 'green'), active=0)\n",
    "\n",
    "\n",
    "def colorfunc(label):\n",
    "    l.set_color(label)\n",
    "    fig.canvas.draw_idle()\n",
    "radio.on_clicked(colorfunc)\n",
    "\n",
    "plt.show()"
   ]
  }
 ],
 "metadata": {
  "kernelspec": {
   "display_name": "Python 3",
   "language": "python",
   "name": "python3"
  },
  "language_info": {
   "codemirror_mode": {
    "name": "ipython",
    "version": 3
   },
   "file_extension": ".py",
   "mimetype": "text/x-python",
   "name": "python",
   "nbconvert_exporter": "python",
   "pygments_lexer": "ipython3",
   "version": "3.5.4"
  }
 },
 "nbformat": 4,
 "nbformat_minor": 2
}
