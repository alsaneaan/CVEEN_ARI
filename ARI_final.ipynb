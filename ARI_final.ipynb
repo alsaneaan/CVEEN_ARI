{
 "cells": [
  {
   "cell_type": "markdown",
   "metadata": {},
   "source": [
    "## BMI 6018 Term Project\n",
    "### Members: Anwar Alsanea, Ryan Williams, and Imdad Islam"
   ]
  },
  {
   "cell_type": "markdown",
   "metadata": {},
   "source": [
    "## 1.0 Introduction:"
   ]
  },
  {
   "cell_type": "markdown",
   "metadata": {},
   "source": [
    "Our term project involves dealing with daily gas produced and feed for [digesters](https://en.wikipedia.org/wiki/Anaerobic_digestion) in wastewater treatment plants (WWTP).\n",
    "We have obtained data from a local WWTP [Central Valley Water Reclamation Facility CVWRF](https://www.cvwrf.org/).\n",
    "![Anaerobic Digester](http://www.e-p.com/file/5dc89542-d2fd-45e6-ba17-1f02d1d36181)"
   ]
  },
  {
   "cell_type": "markdown",
   "metadata": {},
   "source": [
    "More info. on our project (Ryan will fill this out)\n",
    "what is a digester?\n",
    "what can we get from our data? \n",
    "this will sort of be like an abstract..."
   ]
  },
  {
   "cell_type": "markdown",
   "metadata": {},
   "source": [
    "# Data:\n",
    "Data will be imported into a dataframe from a csv file that contains gas produced in TCF (Trillion Cubic Feet) and total inputted feed in Gallons for month January - September (excluding August) for the year 2017."
   ]
  },
  {
   "cell_type": "code",
   "execution_count": null,
   "metadata": {},
   "outputs": [],
   "source": [
    "# import csv file into dataframe:\n",
    "import pandas as pd\n",
    "import numpy as np\n",
    "DF = pd.read_csv('CVWRF.csv', header = 1,na_values=\" NaN\")\n",
    "# pandas is reading the csv file and including all NaN rows at the bottom\n",
    "# to delete those rows, use pandas DataFrame.dropna() function to delete and clean the file\n",
    "DF.dropna(how = 'any',inplace=True)\n",
    "# lets do more cleaning, I do not like the column names, lets change them\n",
    "DF.rename(columns={'Gas produced (TCF)': 'egg1_gasproduced', 'Feed (Gallons)': 'egg1_feed',\n",
    "                  'Gas produced (TCF).1':'egg2_gasproduced','Feed (Gallons).1':'egg2_feed'}, inplace=True)\n",
    "# lets combine egg1 and egg2 numbers together so we only worry about the total of the two per day!\n",
    "# create a new column that adds gasproduced\n",
    "DF['total_gas'] = DF['egg1_gasproduced'] + DF['egg2_gasproduced']\n",
    "DF['total_feed'] = DF['egg1_feed'] + DF['egg2_feed']\n",
    "# print final dataframe\n",
    "DF"
   ]
  },
  {
   "cell_type": "code",
   "execution_count": null,
   "metadata": {},
   "outputs": [],
   "source": [
    "# lets seperate the dataframe and turn it into smaller dataframes with monthly data:\n",
    "DF_jan = DF[DF.Month == 'January']\n",
    "DF_feb = DF[DF.Month == 'February']\n",
    "DF_march = DF[DF.Month == 'March']\n",
    "DF_april = DF[DF.Month == 'April']\n",
    "DF_may = DF[DF.Month == 'May']\n",
    "DF_june = DF[DF.Month == 'June']\n",
    "DF_july = DF[DF.Month == 'July']\n",
    "# there is no August data\n",
    "DF_sept = DF[DF.Month == 'September']"
   ]
  },
  {
   "cell_type": "code",
   "execution_count": null,
   "metadata": {},
   "outputs": [],
   "source": [
    "# to find the mean of a particular column in a pandas dataframe:\n",
    "DF_jan['egg1_gasproduced'].mean()"
   ]
  },
  {
   "cell_type": "code",
   "execution_count": null,
   "metadata": {},
   "outputs": [],
   "source": [
    "DF_jan['Month'][0]"
   ]
  },
  {
   "cell_type": "code",
   "execution_count": null,
   "metadata": {},
   "outputs": [],
   "source": [
    "# lets start the class:\n",
    "# this class will take a dataframe \n",
    "#(from any of the months indicated above, and returns the avg and sum of each gas produced for the digester)\n",
    "class digesterdata (pd.DataFrame):\n",
    "    \n",
    "    #since we want to inherit from a dataframe, we will need to use super function in here\n",
    "    def __init__(self, *args, **kwargs):\n",
    "        super(pd.DataFrame,self).__init__(*args, **kwargs)\n",
    "        \n",
    "    @property\n",
    "    def _constructor(self):\n",
    "        return digesterdata\n",
    " \n",
    "\n",
    "\n",
    "    @property\n",
    "    def avg(self):\n",
    "        return self.avg\n",
    "    @avg.setter\n",
    "    def avg(self):\n",
    "        self.avg =  pd.DataFrame.mean()\n",
    "        return self.avg\n",
    "    @property\n",
    "    def total(self):\n",
    "        return self.total\n",
    "    @total.setter\n",
    "    def total(self):\n",
    "        self.total =  pd.DataFrame.sum()\n",
    "        return self.total\n",
    "    \n",
    "    #def month(self):\n",
    "    #    month =  self['Month'][0]\n",
    "    #    return month\n",
    "    \n",
    "    def __str__(self):\n",
    "        return 'The total is %d and the average is %d' %(self.total, self.avg)\n",
    "                \n",
    "    \n",
    "    \n",
    "    #def __repr__(self):\n",
    "    #    return 'something'\n",
    "        \n",
    "    \n",
    "     \n",
    "        \n",
    "        "
   ]
  },
  {
   "cell_type": "code",
   "execution_count": null,
   "metadata": {},
   "outputs": [],
   "source": [
    "# test the class...\n",
    "dd = digesterdata(DF_jan['total_feed'])\n",
    "#digesterdata.__str__()\n",
    "print(dd)"
   ]
  },
  {
   "cell_type": "code",
   "execution_count": null,
   "metadata": {},
   "outputs": [],
   "source": [
    "# this class will print out the feed/gas at a given date, it will also give the data (avg and sum) \n",
    "#from previous class based on the month \n",
    "\n",
    "class feedgasdate(digesterdata):\n",
    "# ??? \n",
    "# pending"
   ]
  },
  {
   "cell_type": "code",
   "execution_count": null,
   "metadata": {},
   "outputs": [],
   "source": []
  }
 ],
 "metadata": {
  "kernelspec": {
   "display_name": "Python 3",
   "language": "python",
   "name": "python3"
  },
  "language_info": {
   "codemirror_mode": {
    "name": "ipython",
    "version": 3
   },
   "file_extension": ".py",
   "mimetype": "text/x-python",
   "name": "python",
   "nbconvert_exporter": "python",
   "pygments_lexer": "ipython3",
   "version": "3.5.4"
  }
 },
 "nbformat": 4,
 "nbformat_minor": 2
}
